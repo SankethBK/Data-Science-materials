{
 "cells": [
  {
   "cell_type": "code",
   "execution_count": 129,
   "metadata": {},
   "outputs": [
    {
     "name": "stdout",
     "output_type": "stream",
     "text": [
      "(150, 4) (150,)\n"
     ]
    }
   ],
   "source": [
    "%config IPCompleter.greedy=True  # setting autocomplete \n",
    "\n",
    "from sklearn import datasets\n",
    "import numpy as np\n",
    "import pandas as pd\n",
    "from matplotlib import pyplot as plt \n",
    "\n",
    "# load the pre-existing iris dataset\n",
    "iris = datasets.load_iris()\n",
    "\n",
    "X = iris.data\n",
    "y = iris.target\n",
    "\n",
    "print(X.shape, y.shape)"
   ]
  },
  {
   "cell_type": "code",
   "execution_count": 96,
   "metadata": {},
   "outputs": [
    {
     "name": "stdout",
     "output_type": "stream",
     "text": [
      "(120, 4)\n"
     ]
    }
   ],
   "source": [
    "# To split training and testig data\n",
    "\n",
    "from sklearn.model_selection import train_test_split\n",
    "\n",
    "X_train, X_test,  y_train, y_test = train_test_split(X, y, test_size = 0.2)\n",
    "print(X_train.shape)"
   ]
  },
  {
   "cell_type": "code",
   "execution_count": 97,
   "metadata": {},
   "outputs": [
    {
     "name": "stdout",
     "output_type": "stream",
     "text": [
      "  buying maintainance doors persons lug_boot safety  class\n",
      "0  vhigh        vhigh     2       2    small    low  unacc\n",
      "1  vhigh        vhigh     2       2    small    med  unacc\n",
      "2  vhigh        vhigh     2       2    small   high  unacc\n",
      "3  vhigh        vhigh     2       2      med    low  unacc\n",
      "4  vhigh        vhigh     2       2      med    med  unacc\n"
     ]
    }
   ],
   "source": [
    "# implementing KNN \n",
    "\n",
    "from sklearn import neighbors, metrics \n",
    "from sklearn.preprocessing import LabelEncoder \n",
    "\n",
    "data = pd.read_csv('car.data')\n",
    "print(data.head())"
   ]
  },
  {
   "cell_type": "code",
   "execution_count": 98,
   "metadata": {},
   "outputs": [],
   "source": [
    "X = data[[\n",
    "    'buying',\n",
    "    'maintainance',\n",
    "    'safety'\n",
    "]].values\n",
    "\n",
    "y = data[['class']]\n",
    "\n",
    "# print(X,y)"
   ]
  },
  {
   "cell_type": "code",
   "execution_count": 99,
   "metadata": {},
   "outputs": [
    {
     "name": "stdout",
     "output_type": "stream",
     "text": [
      "Accuracy of machine learning model = 0.9333333333333333\n"
     ]
    },
    {
     "name": "stderr",
     "output_type": "stream",
     "text": [
      "/home/sankethbk7777/anaconda3/lib/python3.8/site-packages/pandas/core/indexing.py:1048: SettingWithCopyWarning: \n",
      "A value is trying to be set on a copy of a slice from a DataFrame.\n",
      "Try using .loc[row_indexer,col_indexer] = value instead\n",
      "\n",
      "See the caveats in the documentation: https://pandas.pydata.org/pandas-docs/stable/user_guide/indexing.html#returning-a-view-versus-a-copy\n",
      "  self.obj[item_labels[indexer[info_axis]]] = value\n"
     ]
    }
   ],
   "source": [
    "# Converting the categorical colums into numbers\n",
    "\n",
    "Le = LabelEncoder()\n",
    "\n",
    "for i in range(len(X[0])):\n",
    "    X[:,i] = Le.fit_transform(X[:,i])\n",
    "\n",
    "# print(X)\n",
    "\n",
    "# Another way of converting is using a dictionary and call the map method \n",
    "\n",
    "label_mapping = {\n",
    "    'unacc' : 0,\n",
    "    'acc' : 1,\n",
    "    'good' : 2,\n",
    "    'vgood' : 3,\n",
    "}\n",
    "\n",
    "y.loc[:,'class'] = y['class'].map(label_mapping)\n",
    "y = np.array(y)\n",
    "\n",
    "# Creating KNN model\n",
    "\n",
    "knn = neighbors.KNeighborsClassifier(n_neighbors=25,weights='uniform')\n",
    "knn.fit(X_train, y_train)\n",
    "\n",
    "prediction = knn.predict(X_test)\n",
    "\n",
    "accuracy = metrics.accuracy_score(y_test, prediction)\n",
    "print(F\"Accuracy of machine learning model = {accuracy}\")\n"
   ]
  },
  {
   "cell_type": "code",
   "execution_count": 125,
   "metadata": {},
   "outputs": [
    {
     "name": "stdout",
     "output_type": "stream",
     "text": [
      "Accuracy of SVM in iris dataset is 0.9666666666666667\n"
     ]
    }
   ],
   "source": [
    "# Support Vector Machines \n",
    "from sklearn import svm\n",
    "\n",
    "X = iris.data\n",
    "y = iris.target\n",
    "X_train, X_test,  y_train, y_test = train_test_split(X, y, test_size = 0.2)\n",
    "\n",
    "classes = [\"Iris Setosa\", \"Iris Versicolour\", \"Iris Virginica\"]\n",
    "model = svm.SVC()\n",
    "\n",
    "model.fit(X_train, y_train)\n",
    "prediction = model.predict(X_test)\n",
    "accuracy = metrics.accuracy_score(prediction, y_test)\n",
    "\n",
    "print(F\"Accuracy of SVM in iris dataset is {accuracy}\")"
   ]
  },
  {
   "cell_type": "code",
   "execution_count": 146,
   "metadata": {
    "scrolled": true
   },
   "outputs": [
    {
     "name": "stdout",
     "output_type": "stream",
     "text": [
      "R**2 value 0.7372137988586844\n",
      "[  0.86528091  -4.68837216   2.11829221 -15.78461205   0.98633606\n",
      "   3.79764042   2.52067777  -1.81210673  -1.14251175  -1.12798837\n",
      "   3.52770171  -2.71576204  -0.28019747  -0.90116119   2.02880306\n",
      "  -2.52445481   5.32834357   6.33850901   5.92206562   2.81353288\n",
      "   0.91260323   2.87679139   5.29896834   0.49421701   0.3635297\n",
      "  -2.55601188   1.71323136   6.64574289  -0.81003269   4.85541952\n",
      "  -0.33810241   0.34244965  -5.1797308    3.25510059 -17.17749191\n",
      "   6.73543604  -0.36611916   2.18200574  -6.11661979  -0.28691395\n",
      "   1.82032276   4.122062     4.62513272  -0.44885865   3.08489691\n",
      "   0.85892081   5.01609428  -1.38026264   0.04506618  -4.10357339\n",
      "   4.29151084   1.9848184    2.93615455   0.33274834  -0.95709718\n",
      " -13.76040106  -1.23106065  -4.27704191  -0.99339012   0.08734121\n",
      "   5.44949951   1.97841875  -0.20766305   1.24376096   2.94236309\n",
      "   3.64070917 -12.2137322  -28.3409957    0.65217558   7.00702467\n",
      "  -2.85740164  -0.18535203   7.61796576  -0.42182086  -0.30848698\n",
      "  -8.15894063  -3.57194972   1.59650821   4.25617768   0.28914557\n",
      "   0.91966656  -0.8817745   -4.23351698  -0.82844974   0.93079182\n",
      "   4.64503551   4.05200951  -8.90930806   2.58905107  -3.71347058\n",
      "   0.43855753  -3.91599529   2.48086591  -0.31000241   2.24553286\n",
      "   4.37959932  -0.71178319   5.49616768   2.91395536   1.25404319\n",
      "   2.06594802   2.52875721]\n"
     ]
    },
    {
     "data": {
      "image/png": "[encoded data removed]",
      "text/plain": [
       "<Figure size 432x288 with 1 Axes>"
      ]
     },
     "metadata": {
      "needs_background": "light"
     },
     "output_type": "display_data"
    }
   ],
   "source": [
    "# Linear regression \n",
    "\n",
    "from sklearn import linear_model\n",
    "\n",
    "boston = datasets.load_boston()\n",
    "\n",
    "X = boston.data\n",
    "y = boston.target \n",
    "\n",
    "l_reg = linear_model.LinearRegression()\n",
    "plt.scatter(X.T[5],y)\n",
    "\n",
    "X_train, X_test,  y_train, y_test = train_test_split(X, y, test_size = 0.2)\n",
    "\n",
    "model = l_reg.fit(X_train, y_train)\n",
    "prediction = model.predict(X_test)\n",
    "\n",
    "print(F\"R**2 value {l_reg.score(X,y)}\")\n",
    "\n",
    "# print(prediction - y_test)"
   ]
  },
  {
   "cell_type": "code",
   "execution_count": null,
   "metadata": {},
   "outputs": [],
   "source": [
    "# KMeans clustering \n",
    "\n",
    "from sklearn.datasets import load_breast_cancer \n",
    "from sklearn.cluster import KMeans\n",
    "from sklearn.preprocessing import scale \n",
    "\n",
    "bc = load_breast_cancer()\n",
    "X = scale(bc.data)\n",
    "y = bc.target \n"
   ]
  }
 ],
 "metadata": {
  "kernelspec": {
   "display_name": "Python 3",
   "language": "python",
   "name": "python3"
  },
  "language_info": {
   "codemirror_mode": {
    "name": "ipython",
    "version": 3
   },
   "file_extension": ".py",
   "mimetype": "text/x-python",
   "name": "python",
   "nbconvert_exporter": "python",
   "pygments_lexer": "ipython3",
   "version": "3.8.3"
  }
 },
 "nbformat": 4,
 "nbformat_minor": 4
}
