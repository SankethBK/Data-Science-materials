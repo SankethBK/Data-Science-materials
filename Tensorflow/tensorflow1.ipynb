{
 "cells": [
  {
   "cell_type": "markdown",
   "metadata": {},
   "source": [
    "# Tensorflow \n",
    "\n",
    "Tensorflow is an open source machine learning platform. It is owned and maintained by google and it is one of the largest machine learning libraries.\n",
    "\n",
    "### Tensorflow has two main components\n",
    "- Graphs\n",
    "- Sessions \n",
    "\n",
    "Tensorflow works by building a graph of defined computations. Nothing is computed or stored in this graph. It is simply a way of defining the operations that have been written in the code. \n",
    "\n",
    "A tensorflow session allows parts of the graph to be executed. It allocates memory and resources and handles the execution of operations and computations we've defined. \n",
    "\n",
    "In some instances we will need to run a session to be able to execute different parts of the graph we've created earlier."
   ]
  },
  {
   "cell_type": "code",
   "execution_count": 7,
   "metadata": {},
   "outputs": [
    {
     "name": "stdout",
     "output_type": "stream",
     "text": [
      "<module 'tensorflow._api.v2.version' from '/home/sankethbk7777/anaconda3/lib/python3.8/site-packages/tensorflow/_api/v2/version/__init__.py'>\n"
     ]
    }
   ],
   "source": [
    "import tensorflow as tf\n",
    "\n",
    "print(tf.version)"
   ]
  },
  {
   "cell_type": "markdown",
   "metadata": {},
   "source": [
    "## Tensors \n",
    "\"A tensor is a generalization of vectors and matrices to potentially higher dimensions. Internally, TensorFlow represents tensors as n-dimensional arrays of base datatypes.\" (https://www.tensorflow.org/guide/tensor)\n",
    "\n",
    "It should't surprise you that tensors are a fundemental apsect of TensorFlow. They are the main objects that are passed around and manipluated throughout the program. Each tensor represents a partialy defined computation that will eventually produce a value. TensorFlow programs work by building a graph of Tensor objects that details how tensors are related. Running different parts of the graph allow results to be generated.\n",
    "\n",
    "Each tensor has a data type and a shape. \n",
    "\n",
    "**Data Types Include**: float32, int32, string and others.\n",
    "\n",
    "**Shape**: Represents the dimension of data.\n",
    "\n",
    "Just like vectors and matrices tensors can have operations applied to them like addition, subtraction, dot product, cross product etc.\n",
    "\n",
    "In the next sections we will discuss some different properties of tensors. This is to make you more familiar with how tensorflow represnts data and how you can manipulate this data.\n",
    "\n",
    "\n",
    "\n"
   ]
  },
  {
   "cell_type": "code",
   "execution_count": 9,
   "metadata": {},
   "outputs": [],
   "source": [
    "# Creating Tensors \n",
    "\n",
    "string = tf.Variable(\"this is a string\",tf.string)\n",
    "number = tf.Variable(324,tf.int16)\n",
    "floating = tf.Variable(3.567,tf.float32)\n",
    "\n",
    "# These tensors have shape of 1 - which means they are scalars \n",
    "# These are rank 0 variables"
   ]
  },
  {
   "cell_type": "markdown",
   "metadata": {},
   "source": [
    "### Rank/Degree of Tensors\n",
    "Another word for rank is degree, these terms simply mean the number of dimensions involved in the tensor. What we created above is a tensor of rank 0, also known as a scalar.\n",
    "\n",
    "Now we'll create some tensors of higher degrees/ranks."
   ]
  },
  {
   "cell_type": "code",
   "execution_count": 14,
   "metadata": {},
   "outputs": [
    {
     "name": "stdout",
     "output_type": "stream",
     "text": [
      "rank of number = 0\n",
      "rank of rank1_tensor = 1\n",
      "rank of rank2_tensor = 2\n"
     ]
    }
   ],
   "source": [
    "rank1_tensor = tf.Variable([\"Test\"], tf.string)\n",
    "rank2_tensor = tf.Variable([[\"Test\",\"Ok\"],[\"Test\",\"yes\"]])\n",
    "\n",
    "print(F\"rank of number = {tf.rank(number)}\")\n",
    "print(F\"rank of rank1_tensor = {tf.rank(rank1_tensor)}\")\n",
    "print(F\"rank of rank2_tensor = {tf.rank(rank2_tensor)}\")"
   ]
  },
  {
   "cell_type": "code",
   "execution_count": 17,
   "metadata": {},
   "outputs": [
    {
     "name": "stdout",
     "output_type": "stream",
     "text": [
      "Shape of floating = ()\n",
      "Shape of rank1_tensor = (1,)\n",
      "Shape of rank2_tensor = (2, 2)\n"
     ]
    }
   ],
   "source": [
    "# SHape - Number of items in each dimension\n",
    "# Tensorflow will try to determine the shape of a tensor but sometimes it may be unknown \n",
    "\n",
    "print(F\"Shape of floating = {floating.shape}\")\n",
    "print(F\"Shape of rank1_tensor = {rank1_tensor.shape}\")\n",
    "print(F\"Shape of rank2_tensor = {rank2_tensor.shape}\")\n"
   ]
  },
  {
   "cell_type": "markdown",
   "metadata": {},
   "source": [
    "### Changing Shape \n",
    "\n",
    "The number of elements of a tensor is the product of the sizes of all its shapes. There are often many shapes that have the same number of elements, making it convient to be able to change the shape of a tensor.\n",
    "\n",
    "The example below shows how to change the shape of a tensor."
   ]
  },
  {
   "cell_type": "code",
   "execution_count": 33,
   "metadata": {},
   "outputs": [
    {
     "name": "stdout",
     "output_type": "stream",
     "text": [
      "Tensor1 = \n",
      "[[[1. 1. 1.]\n",
      "  [1. 1. 1.]]]\n",
      "\n",
      " Tensor2 = \n",
      "[[[1.]\n",
      "  [1.]\n",
      "  [1.]]\n",
      "\n",
      " [[1.]\n",
      "  [1.]\n",
      "  [1.]]]\n",
      "\n",
      " Tensor3 = \n",
      "[[1. 1.]\n",
      " [1. 1.]\n",
      " [1. 1.]]\n",
      "\n",
      " tensor4 = \n",
      " [[[0. 0.]\n",
      "  [0. 0.]]\n",
      "\n",
      " [[0. 0.]\n",
      "  [0. 0.]]]\n",
      "\n",
      " tensor5 = \n",
      " [[0. 0.]\n",
      " [0. 0.]\n",
      " [0. 0.]\n",
      " [0. 0.]]\n"
     ]
    }
   ],
   "source": [
    "tensor1 = tf.ones([1,2,3]) # tf.ones() creates a tensor of shape [1,2,3] full of 1's\n",
    "print(F\"Tensor1 = \\n{tensor1}\")\n",
    "\n",
    "tensor2 = tf.reshape(tensor1,[2,3,1]) # rehapes existing data to [2,3,1]\n",
    "print(F\"\\n Tensor2 = \\n{tensor2}\")\n",
    "\n",
    "tensor3 = tf.reshape(tensor2,[3,-1])  # -1 tells the tensor to calculate the size of the dimension in that place \n",
    "                                      # this will reshape the tensor to [3,2]\n",
    "print(F\"\\n Tensor3 = \\n{tensor3}\")\n",
    "\n",
    "tensor4 = tf.zeros([2,2,2]) \n",
    "print(F\"\\n tensor4 = \\n {tensor4}\")\n",
    "\n",
    "# to flatten tensor4 to 2 dimesions \n",
    "tensor5 = tf.reshape(tensor4, [4,-1])\n",
    "print(F\"\\n tensor5 = \\n {tensor5}\")"
   ]
  },
  {
   "cell_type": "markdown",
   "metadata": {},
   "source": [
    "### Types of Tensors \n",
    "- Variables\n",
    "- Constant\n",
    "- Placeholder\n",
    "- SparseTensor\n",
    "\n",
    "With the exception of the variables all the other tensors are immutable, meaning their value may not change during execution."
   ]
  },
  {
   "cell_type": "markdown",
   "metadata": {},
   "source": [
    "### TensorFlow Core Learning Algorithms\n",
    "In this notebook we will walk through 4 fundemental machine learning algorithms. We will apply each of these algorithms to unique problems and datasets before highlighting the use cases of each.\n",
    "\n",
    "The algorithms we will focus on include:\n",
    "- Linear Regression\n",
    "- Classification\n",
    "- Clustering\n",
    "- Hidden Markov Models\n",
    "\n",
    "It is worth noting that there are many tools within TensorFlow that could be used to solve the problems we will see below. I have chosen the tools that I belive give the most variety and are easiest to use."
   ]
  },
  {
   "cell_type": "code",
   "execution_count": 35,
   "metadata": {},
   "outputs": [],
   "source": [
    "from __future__ import absolute_import, division, print_function, unicode_literals\n",
    "\n",
    "import numpy as np\n",
    "import pandas as pd\n",
    "import matplotlib.pyplot as plt\n",
    "from IPython.display import clear_output\n",
    "from six.moves import urllib\n",
    "\n",
    "import tensorflow.compat.v2.feature_column as fc\n",
    "\n",
    "import tensorflow as tf"
   ]
  },
  {
   "cell_type": "code",
   "execution_count": 36,
   "metadata": {},
   "outputs": [],
   "source": [
    "# Load dataset. - This is titanic dataset\n",
    "dftrain = pd.read_csv('https://storage.googleapis.com/tf-datasets/titanic/train.csv') # training data\n",
    "dfeval = pd.read_csv('https://storage.googleapis.com/tf-datasets/titanic/eval.csv') # testing data\n",
    "\n",
    "# pop removes and returns the column from the dataframe\n",
    "\n",
    "y_train = dftrain.pop('survived')\n",
    "y_eval = dfeval.pop('survived')"
   ]
  },
  {
   "cell_type": "code",
   "execution_count": 37,
   "metadata": {},
   "outputs": [],
   "source": []
  }
 ],
 "metadata": {
  "kernelspec": {
   "display_name": "Python 3",
   "language": "python",
   "name": "python3"
  },
  "language_info": {
   "codemirror_mode": {
    "name": "ipython",
    "version": 3
   },
   "file_extension": ".py",
   "mimetype": "text/x-python",
   "name": "python",
   "nbconvert_exporter": "python",
   "pygments_lexer": "ipython3",
   "version": "3.8.3"
  }
 },
 "nbformat": 4,
 "nbformat_minor": 4
}
